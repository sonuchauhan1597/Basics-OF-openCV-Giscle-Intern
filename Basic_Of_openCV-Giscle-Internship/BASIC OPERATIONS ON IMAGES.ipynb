{
 "cells": [
  {
   "cell_type": "code",
   "execution_count": 2,
   "metadata": {
    "collapsed": true
   },
   "outputs": [],
   "source": [
    "\n",
    "#Accessing and Modifying pixel values¶\n"
   ]
  },
  {
   "cell_type": "code",
   "execution_count": 3,
   "metadata": {
    "collapsed": true
   },
   "outputs": [],
   "source": [
    "#Program to access the pixel values of an image at a particular region¶"
   ]
  },
  {
   "cell_type": "code",
   "execution_count": 1,
   "metadata": {},
   "outputs": [
    {
     "name": "stdout",
     "output_type": "stream",
     "text": [
      "The pixel values of the coordinate [100,100] is  [ 64 120 161]\n"
     ]
    }
   ],
   "source": [
    "#Step 1: Import the required packages\n",
    "import numpy as np\n",
    "import cv2\n",
    "#Step 2: Load the image\n",
    "img=cv2.imread(\"Data/testimage1.jpg\",1)\n",
    "'''You can access a pixel value by its row and column coordinates.\n",
    "For BGR image, it returns an array of Blue, Green, Red values. \n",
    "For grayscale image, just corresponding intensity is returned.'''\n",
    "#Step 3: Access the pixel values and store it in a variable\n",
    "px=img[100,100]\n",
    "# Step 4: Display the pixel values to the user\n",
    "print(\"The pixel values of the coordinate [100,100] is \",px)\n",
    "\n"
   ]
  },
  {
   "cell_type": "code",
   "execution_count": 4,
   "metadata": {
    "collapsed": true
   },
   "outputs": [],
   "source": [
    "#Program to access the blue pixel values of an image at a particular region¶\n"
   ]
  },
  {
   "cell_type": "code",
   "execution_count": 5,
   "metadata": {},
   "outputs": [
    {
     "name": "stdout",
     "output_type": "stream",
     "text": [
      "The blue pixel values of the coordinate [100,100] is  64\n"
     ]
    }
   ],
   "source": [
    "#Step 1: Import the required packages\n",
    "import numpy as np\n",
    "import cv2\n",
    "#Step 2: Load the image\n",
    "img=cv2.imread(\"Data/testimage1.jpg\",1)\n",
    "'''You can access a pixel value by its row and column coordinates.\n",
    "For BGR image, it returns an array of Blue, Green, Red values. \n",
    "For grayscale image, just corresponding intensity is returned.'''\n",
    "#Step 3: Access the pixel values and store it in a variable\n",
    "blue=img[100,100,0]# The pixels can be accesses using zero(0) based index\n",
    "# Step 4: Display the pixel values to the user\n",
    "print(\"The blue pixel values of the coordinate [100,100] is \",blue)"
   ]
  },
  {
   "cell_type": "code",
   "execution_count": 6,
   "metadata": {
    "collapsed": true
   },
   "outputs": [],
   "source": [
    "#Program to access the green pixel values of an image at a particular region¶\n"
   ]
  },
  {
   "cell_type": "code",
   "execution_count": 8,
   "metadata": {},
   "outputs": [
    {
     "name": "stdout",
     "output_type": "stream",
     "text": [
      "The green pixel values of the coordinate [100,100] is  120\n"
     ]
    }
   ],
   "source": [
    "#Step 1: Import the required packages\n",
    "import numpy as np\n",
    "import cv2\n",
    "#Step 2: Load the image\n",
    "img=cv2.imread(\"Data/testimage1.jpg\",1)\n",
    "'''You can access a pixel value by its row and column coordinates.\n",
    "For BGR image, it returns an array of Blue, Green, Red values. \n",
    "For grayscale image, just corresponding intensity is returned.'''\n",
    "#Step 3: Access the pixel values and store it in a variable\n",
    "green=img[100,100,1]# The pixels can be accesses using zero(0) based index\n",
    "# Step 4: Display the pixel values to the user\n",
    "print(\"The green pixel values of the coordinate [100,100] is \",green)\n"
   ]
  },
  {
   "cell_type": "code",
   "execution_count": 12,
   "metadata": {
    "collapsed": true
   },
   "outputs": [],
   "source": [
    "#Program to access the red pixel values of an image at a particular region¶"
   ]
  },
  {
   "cell_type": "code",
   "execution_count": 11,
   "metadata": {},
   "outputs": [
    {
     "name": "stdout",
     "output_type": "stream",
     "text": [
      "The green pixel values of the coordinate [100,100] is  161\n"
     ]
    }
   ],
   "source": [
    "#Step 1: Import the required packages\n",
    "import numpy as np\n",
    "import cv2\n",
    "#Step 2: Load the image\n",
    "img=cv2.imread(\"Data/testimage1.jpg\",1)\n",
    "'''You can access a pixel value by its row and column coordinates.\n",
    "For BGR image, it returns an array of Blue, Green, Red values. \n",
    "For grayscale image, just corresponding intensity is returned.'''\n",
    "#Step 3: Access the pixel values and store it in a variable\n",
    "red=img[100,100,2]# The pixels can be accesses using zero(0) based index\n",
    "# Step 4: Display the pixel values to the user\n",
    "print(\"The green pixel values of the coordinate [100,100] is \",red)\n"
   ]
  },
  {
   "cell_type": "code",
   "execution_count": 13,
   "metadata": {
    "collapsed": true
   },
   "outputs": [],
   "source": [
    "#Program to access and modify pixel values of an image at a particular region¶¶\n"
   ]
  },
  {
   "cell_type": "code",
   "execution_count": 14,
   "metadata": {},
   "outputs": [
    {
     "name": "stdout",
     "output_type": "stream",
     "text": [
      "The  pixel values of the coordinate [100,100] is  [ 64 120 161]\n",
      " \n",
      "The modified pixel value at coordinate [100,100] is   [245 100 234]\n"
     ]
    }
   ],
   "source": [
    "#Step 1: Import the required packages\n",
    "import numpy as np\n",
    "import cv2\n",
    "#Step 2: Load the image\n",
    "img=cv2.imread(\"Data/testimage1.jpg\",1)\n",
    "'''You can access a pixel value by its row and column coordinates.\n",
    "For BGR image, it returns an array of Blue, Green, Red values. \n",
    "For grayscale image, just corresponding intensity is returned.'''\n",
    "#Step 3: Access the pixel values and store it in a variable\n",
    "px=img[100,100]\n",
    "# Step 4: Display the pixel values to the user\n",
    "print(\"The  pixel values of the coordinate [100,100] is \",px)\n",
    "#Step 5: Modify the pixel values\n",
    "img[100,100]=[245,100,234]\n",
    "#Step 6: Print the modified pixel values\n",
    "print(\" \\nThe modified pixel value at coordinate [100,100] is  \",img[100,100])"
   ]
  },
  {
   "cell_type": "code",
   "execution_count": 15,
   "metadata": {
    "collapsed": true
   },
   "outputs": [],
   "source": [
    "#Program to access and modify the blue pixel values at a particular region"
   ]
  },
  {
   "cell_type": "code",
   "execution_count": 16,
   "metadata": {},
   "outputs": [
    {
     "name": "stdout",
     "output_type": "stream",
     "text": [
      "The blue pixel values of the coordinate [100,100] is  64\n",
      " \n",
      "The modified pixel value at coordinate [100,100] is   245\n"
     ]
    }
   ],
   "source": [
    "#Step 1: Import the required packages\n",
    "import numpy as np\n",
    "import cv2\n",
    "#Step 2: Load the image\n",
    "img=cv2.imread(\"Data/testimage1.jpg\",1)\n",
    "'''You can access a pixel value by its row and column coordinates.\n",
    "For BGR image, it returns an array of Blue, Green, Red values. \n",
    "For grayscale image, just corresponding intensity is returned.'''\n",
    "#Step 3: Access the pixel values and store it in a variable\n",
    "blue=img.item(100,100,0)\n",
    "# Step 4: Display the pixel values to the user\n",
    "print(\"The blue pixel values of the coordinate [100,100] is \",blue)\n",
    "#Step 5: Modify the pixel values\n",
    "img.itemset((100,100,0),245)\n",
    "#Step 6: Print the modified pixel values\n",
    "print(\" \\nThe modified pixel value at coordinate [100,100] is  \",img[100,100,0])\n",
    "\n"
   ]
  },
  {
   "cell_type": "code",
   "execution_count": 17,
   "metadata": {
    "collapsed": true
   },
   "outputs": [],
   "source": [
    "#Program to access and modify the green pixel values at a particular region¶\n"
   ]
  },
  {
   "cell_type": "code",
   "execution_count": 18,
   "metadata": {},
   "outputs": [
    {
     "name": "stdout",
     "output_type": "stream",
     "text": [
      "The blue pixel values of the coordinate [100,100] is  64\n",
      " \n",
      "The modified pixel value at coordinate [100,100] is   235\n"
     ]
    }
   ],
   "source": [
    "#Step 1: Import the required packages\n",
    "import numpy as np\n",
    "import cv2\n",
    "#Step 2: Load the image\n",
    "img=cv2.imread(\"Data/testimage1.jpg\",1)\n",
    "'''You can access a pixel value by its row and column coordinates.\n",
    "For BGR image, it returns an array of Blue, Green, Red values. \n",
    "For grayscale image, just corresponding intensity is returned.'''\n",
    "#Step 3: Access the pixel values and store it in a variable\n",
    "green=img.item(100,100,1)\n",
    "# Step 4: Display the pixel values to the user\n",
    "print(\"The blue pixel values of the coordinate [100,100] is \",blue)\n",
    "#Step 5: Modify the pixel values\n",
    "img.itemset((100,100,1),235)\n",
    "#Step 6: Print the modified pixel values\n",
    "print(\" \\nThe modified pixel value at coordinate [100,100] is  \",img[100,100,1])"
   ]
  },
  {
   "cell_type": "code",
   "execution_count": 19,
   "metadata": {
    "collapsed": true
   },
   "outputs": [],
   "source": [
    "#Program to access and modify the red pixel values at a particular region¶"
   ]
  },
  {
   "cell_type": "code",
   "execution_count": 20,
   "metadata": {},
   "outputs": [
    {
     "name": "stdout",
     "output_type": "stream",
     "text": [
      "The blue pixel values of the coordinate [100,100] is  64\n",
      " \n",
      "The modified pixel value at coordinate [100,100] is   103\n"
     ]
    }
   ],
   "source": [
    "#Step 1: Import the required packages\n",
    "import numpy as np\n",
    "import cv2\n",
    "#Step 2: Load the image\n",
    "img=cv2.imread(\"Data/testimage1.jpg\",1)\n",
    "'''You can access a pixel value by its row and column coordinates.\n",
    "For BGR image, it returns an array of Blue, Green, Red values. \n",
    "For grayscale image, just corresponding intensity is returned.'''\n",
    "#Step 3: Access the pixel values and store it in a variable\n",
    "green=img.item(100,100,2)\n",
    "# Step 4: Display the pixel values to the user\n",
    "print(\"The blue pixel values of the coordinate [100,100] is \",blue)\n",
    "#Step 5: Modify the pixel values\n",
    "img.itemset((100,100,2),103)\n",
    "#Step 6: Print the modified pixel values\n",
    "print(\" \\nThe modified pixel value at coordinate [100,100] is  \",img[100,100,2])"
   ]
  },
  {
   "cell_type": "code",
   "execution_count": 21,
   "metadata": {
    "collapsed": true
   },
   "outputs": [],
   "source": [
    "#Accessing Image Properties¶"
   ]
  },
  {
   "cell_type": "code",
   "execution_count": 22,
   "metadata": {
    "collapsed": true
   },
   "outputs": [],
   "source": [
    "#Program to access the shape of a colored image.¶\n"
   ]
  },
  {
   "cell_type": "code",
   "execution_count": 23,
   "metadata": {},
   "outputs": [
    {
     "name": "stdout",
     "output_type": "stream",
     "text": [
      "The dimension of an image is  (900, 1600, 3)\n",
      "The no of rows in an image is  900\n",
      "The no of columns in an image is  1600\n",
      "The channels in an image is  3\n"
     ]
    }
   ],
   "source": [
    "# Step 1: Import the reuired packages\n",
    "import cv2\n",
    "import numpy as np\n",
    "# Step 2: Load the image\n",
    "img=cv2.imread(\"Data/testimage1.jpg\",1)\n",
    "# Access the shape of an image and store it in a variable\n",
    "rows,columns,channels=img.shape\n",
    "dimension=img.shape\n",
    "# Print the image dimension\n",
    "print(\"The dimension of an image is \",dimension)\n",
    "print(\"The no of rows in an image is \", rows)\n",
    "print(\"The no of columns in an image is \",columns)\n",
    "print(\"The channels in an image is \",channels)"
   ]
  },
  {
   "cell_type": "code",
   "execution_count": 24,
   "metadata": {
    "collapsed": true
   },
   "outputs": [],
   "source": [
    "#Program to access the shape of a grayscale image.\n"
   ]
  },
  {
   "cell_type": "code",
   "execution_count": 25,
   "metadata": {},
   "outputs": [
    {
     "name": "stdout",
     "output_type": "stream",
     "text": [
      "The dimension of an image is  (900, 1600)\n",
      "The no of rows in an image is  900\n",
      "The no of columns in an image is  1600\n"
     ]
    }
   ],
   "source": [
    "# Step 1: Import the reuired packages\n",
    "import cv2\n",
    "import numpy as np\n",
    "# Step 2: Load the image\n",
    "img=cv2.imread(\"Output/grayedimage.jpg\",0)\n",
    "# Access the shape of an image and store it in a variable\n",
    "rows,columns=img.shape\n",
    "dimension=img.shape\n",
    "# Print the image dimension\n",
    "print(\"The dimension of an image is \",dimension)\n",
    "print(\"The no of rows in an image is \", rows)\n",
    "print(\"The no of columns in an image is \",columns)"
   ]
  },
  {
   "cell_type": "code",
   "execution_count": 26,
   "metadata": {
    "collapsed": true
   },
   "outputs": [],
   "source": [
    "#Making Borders for Images (Padding)\n"
   ]
  },
  {
   "cell_type": "code",
   "execution_count": 27,
   "metadata": {},
   "outputs": [
    {
     "data": {
      "image/png": "[encoded data removed]",
      "text/plain": [
       "<matplotlib.figure.Figure at 0x7f442200c588>"
      ]
     },
     "metadata": {},
     "output_type": "display_data"
    }
   ],
   "source": [
    "#Step 1:- Import the required packages\n",
    "import cv2\n",
    "import numpy as np\n",
    "from matplotlib import pyplot as plt\n",
    "\n",
    "BLUE = [255,0,0]\n",
    "#Step 2:- Load the image\n",
    "img1 = cv2.imread('Data/testimage2.jpg')\n",
    "# Step 3:- Make the border of different types by mentioning the arguments in it. \n",
    "replicate = cv2.copyMakeBorder(img1,10,10,10,10,cv2.BORDER_REPLICATE)\n",
    "reflect = cv2.copyMakeBorder(img1,10,10,10,10,cv2.BORDER_REFLECT)\n",
    "reflect101 = cv2.copyMakeBorder(img1,10,10,10,10,cv2.BORDER_REFLECT_101)\n",
    "wrap = cv2.copyMakeBorder(img1,10,10,10,10,cv2.BORDER_WRAP)\n",
    "constant= cv2.copyMakeBorder(img1,10,10,10,10,cv2.BORDER_CONSTANT,value=BLUE)\n",
    "# Step 4:- Plot all the borders\n",
    "plt.subplot(231),plt.imshow(img1,'gray'),plt.title('ORIGINAL')\n",
    "plt.subplot(232),plt.imshow(replicate,'gray'),plt.title('REPLICATE')\n",
    "plt.subplot(233),plt.imshow(reflect,'gray'),plt.title('REFLECT')\n",
    "plt.subplot(234),plt.imshow(reflect101,'gray'),plt.title('REFLECT_101')\n",
    "plt.subplot(235),plt.imshow(wrap,'gray'),plt.title('WRAP')\n",
    "plt.subplot(236),plt.imshow(constant,'gray'),plt.title('CONSTANT')\n",
    "\n",
    "plt.show()"
   ]
  },
  {
   "cell_type": "code",
   "execution_count": null,
   "metadata": {
    "collapsed": true
   },
   "outputs": [],
   "source": []
  }
 ],
 "metadata": {
  "anaconda-cloud": {},
  "kernelspec": {
   "display_name": "Python [conda root]",
   "language": "python",
   "name": "conda-root-py"
  },
  "language_info": {
   "codemirror_mode": {
    "name": "ipython",
    "version": 3
   },
   "file_extension": ".py",
   "mimetype": "text/x-python",
   "name": "python",
   "nbconvert_exporter": "python",
   "pygments_lexer": "ipython3",
   "version": "3.5.4"
  }
 },
 "nbformat": 4,
 "nbformat_minor": 2
}
