{
 "cells": [
  {
   "cell_type": "code",
   "execution_count": 1,
   "metadata": {
    "collapsed": true
   },
   "outputs": [],
   "source": [
    "#Reading/Writing an Image file\n"
   ]
  },
  {
   "cell_type": "code",
   "execution_count": 2,
   "metadata": {
    "collapsed": true
   },
   "outputs": [],
   "source": [
    "#Program to read an image.¶\n"
   ]
  },
  {
   "cell_type": "code",
   "execution_count": 3,
   "metadata": {
    "collapsed": true
   },
   "outputs": [],
   "source": [
    "# Step 1:- import the packages\n",
    "import cv2\n",
    "#  Step 2:- Create an object to hold the image.\n",
    "img=cv2.imread(\"Data/testimage.jpg\",0)#Here the first paramater could be any image file along with its format.\n"
   ]
  },
  {
   "cell_type": "code",
   "execution_count": 4,
   "metadata": {
    "collapsed": true
   },
   "outputs": [],
   "source": [
    "#Program to read an Image in Color¶"
   ]
  },
  {
   "cell_type": "code",
   "execution_count": 5,
   "metadata": {
    "collapsed": true
   },
   "outputs": [],
   "source": [
    "# Step 1:- import the packages\n",
    "import cv2\n",
    "#  Step 2:- Create an object to hold the image.\n",
    "        #Here the first paramater could be any image file along with its format.\n",
    "        #Here  the cv2.IMREAD_COLOR flag will be use to read an image in the color which is in the BGR(Blue,Green, Red) which is the default \n",
    "        #format of the imread() function. \n",
    "img=cv2.imread(\"Data/testimage.jpg\",cv2.IMREAD_COLOR)# The flag value cv.IMREAD_COLOR is used to read an image in the color. It is the default mode.\n"
   ]
  },
  {
   "cell_type": "code",
   "execution_count": 6,
   "metadata": {
    "collapsed": true
   },
   "outputs": [],
   "source": [
    "#Program to read an Image in GrayScale\n"
   ]
  },
  {
   "cell_type": "code",
   "execution_count": 7,
   "metadata": {
    "collapsed": true
   },
   "outputs": [],
   "source": [
    "# Step 1: - import the packages\n",
    "import cv2\n",
    "# Step 2:- Create an object to hold the image.\n",
    "        #Here the first paramater could be any image file along with its format.\n",
    "        #Here  the cv2.IMREAD_GRAYSCALE flag will be use to read an image in the color which is in the BGR(Blue,Green, Red) which is the default \n",
    "        #format of the imread() function. \n",
    "img=cv2.imread(\"Data/testimage.jpg\",cv2.IMREAD_GRAYSCALE)# The flag value cv.IMREAD_GRAYSCALE is used to read an image in the GRARSCALE Format.\n"
   ]
  },
  {
   "cell_type": "code",
   "execution_count": 8,
   "metadata": {
    "collapsed": true
   },
   "outputs": [],
   "source": [
    "#Program to read an Image without any change."
   ]
  },
  {
   "cell_type": "code",
   "execution_count": 9,
   "metadata": {
    "collapsed": true
   },
   "outputs": [],
   "source": [
    "#This will read the image without performing any change in the color like in the case of color and grayscale ie. it reads the COLOR image in color format that ie BGR and GRAYSCALE image in grayscele format\n",
    "# Step 1: -Import the required package\n",
    "import cv2\n",
    "# Step 2:- Create an image object or object to hold the image file in it.\n",
    "img=cv2.imread(\"Data/testimage.jpg\",cv2.IMREAD_UNCHANGED)"
   ]
  },
  {
   "cell_type": "code",
   "execution_count": 10,
   "metadata": {
    "collapsed": true
   },
   "outputs": [],
   "source": [
    "#Alternate ways to read an image in Color , Grayscale and Unchanged Format¶\n"
   ]
  },
  {
   "cell_type": "code",
   "execution_count": 11,
   "metadata": {
    "collapsed": true
   },
   "outputs": [],
   "source": [
    "#Step 1:- Import the required packages\n",
    "import cv2\n",
    "#Step 2:- Create an object to hold the image in it\n",
    "    #Reading image in Color using Integer notation\n",
    "img=cv2.imread(\"Data/testimage.jpg\",1)#The flag 1 is used to read the image in Color Mode.It is default mode\n",
    "    #Reading image in Grayscale using Integer Notation\n",
    "img1=cv2.imread(\"Data/testimage.jpg\",0)# The flag 0 is used to read the image in Grayscale Mode\n",
    "    #Reading the image in unchanged mode.It reads the image without performing any color change operations on it.\n",
    "img2=cv2.imread(\"Data/testimage.jpg\",-1)"
   ]
  },
  {
   "cell_type": "code",
   "execution_count": 12,
   "metadata": {},
   "outputs": [
    {
     "data": {
      "text/plain": [
       "'\\n\\n\\ncv2.imshow() is used to display an image in a window. The window automatically fits to the image size.\\n\\nFirst argument is a window name which is a string. second argument is our image. You can create as many windows as you wish, but with different window names. Note : By default, imread() returns an image in BGR color format, even if the file uses a grayscale format. BGR (blue-green-red) represents the same color space as RGB (red-green-blue) but the byte order is reversed.\\n\\n'"
      ]
     },
     "execution_count": 12,
     "metadata": {},
     "output_type": "execute_result"
    }
   ],
   "source": [
    "#Display an image to the User¶\n",
    "\n",
    "'''\n",
    "\n",
    "\n",
    "cv2.imshow() is used to display an image in a window. The window automatically fits to the image size.\n",
    "\n",
    "First argument is a window name which is a string. second argument is our image. You can create as many windows as you wish, but with different window names. Note : By default, imread() returns an image in BGR color format, even if the file uses a grayscale format. BGR (blue-green-red) represents the same color space as RGB (red-green-blue) but the byte order is reversed.\n",
    "\n",
    "'''"
   ]
  },
  {
   "cell_type": "code",
   "execution_count": 1,
   "metadata": {
    "collapsed": true
   },
   "outputs": [],
   "source": [
    "#Program to display an image¶"
   ]
  },
  {
   "cell_type": "code",
   "execution_count": 4,
   "metadata": {},
   "outputs": [
    {
     "data": {
      "text/plain": [
       "-1"
      ]
     },
     "execution_count": 4,
     "metadata": {},
     "output_type": "execute_result"
    }
   ],
   "source": [
    "#import the packages\n",
    "import cv2\n",
    "# Create an object to hold the image.\n",
    "img=cv2.imread(\"Data/testimage1.jpg\",1)#Here the first paramater could be any image file along with its format.\n",
    "cv2.imshow(\"UserImage\",img)#The first paramter is any name or string which will be displayed as title and second is the image object\n",
    "cv2.waitKey(0)#This is used to capture the keystroke from the user.As and when the user press any  of the key it will capture it.\n",
    "cv2.destroyAllWindows()#This will destroy all the instances of the widnows which is created during imshow() function.\n",
    "cv2.waitKey(1)"
   ]
  },
  {
   "cell_type": "code",
   "execution_count": 5,
   "metadata": {
    "collapsed": true
   },
   "outputs": [],
   "source": [
    "#Program to display image in color\n"
   ]
  },
  {
   "cell_type": "code",
   "execution_count": 6,
   "metadata": {},
   "outputs": [
    {
     "data": {
      "text/plain": [
       "-1"
      ]
     },
     "execution_count": 6,
     "metadata": {},
     "output_type": "execute_result"
    }
   ],
   "source": [
    "#Step 1:- Import the required packages \n",
    "import cv2\n",
    "#Step 2:- Create an object to read and hold the image in color format\n",
    "img=cv2.imread(\"Data/testimage1.jpg\",cv2.IMREAD_COLOR)\n",
    "#Step 3:- Display the Image to the User\n",
    "cv2.imshow(\"Displaying the image \",img)\n",
    "#Step 4:- Capture the keypress of the user\n",
    "cv2.waitKey(0)\n",
    "#Step 5:- Destory all the instances created\n",
    "cv2.destroyAllWindows()\n",
    "cv2.waitKey(1)\n"
   ]
  },
  {
   "cell_type": "code",
   "execution_count": 7,
   "metadata": {
    "collapsed": true
   },
   "outputs": [],
   "source": [
    "#Program to read an image file and display it in Color to the User¶"
   ]
  },
  {
   "cell_type": "code",
   "execution_count": 8,
   "metadata": {},
   "outputs": [
    {
     "data": {
      "text/plain": [
       "-1"
      ]
     },
     "execution_count": 8,
     "metadata": {},
     "output_type": "execute_result"
    }
   ],
   "source": [
    "# Step 1:- import the necessary packages\n",
    "import cv2\n",
    "# Step 2:- Create an object to hold the image\n",
    "img=cv2.imread(\"Data/testimage1.jpg\",cv2.IMREAD_COLOR)\n",
    "#Step 3:- Display the image to the User\n",
    "cv2.imshow(\"Image\",img)#Used to display the image to the User \n",
    "#Step 4:- Capture the key pressed by the user ie to check if any key is pressed by the user.\n",
    "cv2.waitKey(0)#This will wait for the user to press any key\n",
    "#Step 5:- Destroy all the previously created windows to release execution windows.\n",
    "cv2.destroyAllWindows()# This will destroy all the windows Instances\n",
    "cv2.waitKey(1)"
   ]
  },
  {
   "cell_type": "code",
   "execution_count": 9,
   "metadata": {
    "collapsed": true
   },
   "outputs": [],
   "source": [
    "#Program to read and display the image in Grayscale¶"
   ]
  },
  {
   "cell_type": "code",
   "execution_count": 10,
   "metadata": {},
   "outputs": [
    {
     "data": {
      "text/plain": [
       "-1"
      ]
     },
     "execution_count": 10,
     "metadata": {},
     "output_type": "execute_result"
    }
   ],
   "source": [
    "#Step 1:- Import the required Packages\n",
    "import cv2\n",
    "#Step 2:- Create an object to  read and store the image in grayscale\n",
    "img1=cv2.imread(\"Data/testimage1.jpg\",0)\n",
    "#Step 3:- Display an image to the User\n",
    "cv2.imshow(\"Displaying an image to the User\",img1)\n",
    "#Step 4:- Capture anystroke from the user\n",
    "cv2.waitKey(0)\n",
    "#Step 5:- Destroy all the previously created instances\n",
    "cv2.destroyAllWindows()\n",
    "cv2.waitKey(1)\n"
   ]
  },
  {
   "cell_type": "code",
   "execution_count": 11,
   "metadata": {
    "collapsed": true
   },
   "outputs": [],
   "source": [
    "#Program to read an Image in Unchanged format and Display it to the User"
   ]
  },
  {
   "cell_type": "code",
   "execution_count": 12,
   "metadata": {},
   "outputs": [
    {
     "data": {
      "text/plain": [
       "-1"
      ]
     },
     "execution_count": 12,
     "metadata": {},
     "output_type": "execute_result"
    }
   ],
   "source": [
    "#Step 1:- Import the required Packages\n",
    "import cv2\n",
    "#Step 2:- Create an object to  read and store the image in grayscale\n",
    "img1=cv2.imread(\"Data/testimage1.jpg\",-1)\n",
    "#Step 3:- Display an image to the User\n",
    "cv2.imshow(\"Displaying an image to the User\",img1)\n",
    "#Step 4:- Capture anystroke from the user\n",
    "cv2.waitKey(0)\n",
    "#Step 5:- Destroy all the previously created instances\n",
    "cv2.destroyAllWindows()\n",
    "cv2.waitKey(1)"
   ]
  },
  {
   "cell_type": "code",
   "execution_count": 13,
   "metadata": {
    "collapsed": true
   },
   "outputs": [],
   "source": [
    "#Program to read an image and convert into another format after displaying it to the User¶"
   ]
  },
  {
   "cell_type": "code",
   "execution_count": 14,
   "metadata": {},
   "outputs": [
    {
     "data": {
      "text/plain": [
       "-1"
      ]
     },
     "execution_count": 14,
     "metadata": {},
     "output_type": "execute_result"
    }
   ],
   "source": [
    "#Step 1:- Import the necessary packages\n",
    "import cv2\n",
    "# Step 2:- Create an object to hold the image\n",
    "img=cv2.imread(\"Data/testimage1.jpg\",cv2.IMREAD_COLOR)\n",
    "# Step 3:- Display the Image to the User\n",
    "cv2.imshow(\"Image\",img)# Used to display the image to the user\n",
    "'''The first argument will be the filename with format in which you want to save the file \n",
    "and second is the image object which holds the image file'''\n",
    "#Step 4:- Convert and write an image in other format \n",
    "cv2.imwrite(\"image1.png\",img)#This will write an image in .png format having name as image1.The image is stored in current directory.\n",
    "                             #User can also give the exact path where they want to store the image.\n",
    "# Step 5:- Capture the key pressed by the User\n",
    "cv2.waitKey(0)#This will wait for the user to press any key\n",
    "#Step 6:- Destory all the previously Created Instances.\n",
    "cv2.destroyAllWindows()# This will destroy all the windows Instances\n",
    "cv2.waitKey(1)"
   ]
  },
  {
   "cell_type": "code",
   "execution_count": 15,
   "metadata": {
    "collapsed": true
   },
   "outputs": [],
   "source": [
    "#Waiting for the key to be pressed to close the Program\n"
   ]
  },
  {
   "cell_type": "code",
   "execution_count": 16,
   "metadata": {
    "collapsed": true
   },
   "outputs": [],
   "source": [
    "#Program to destory all the previously created instances on press of specific key¶"
   ]
  },
  {
   "cell_type": "code",
   "execution_count": 17,
   "metadata": {
    "collapsed": true
   },
   "outputs": [],
   "source": [
    "# Step 1:- Import the necessary packages\n",
    "import cv2\n",
    "# Step 2:- Create an object to hold the image\n",
    "img=cv2.imread(\"Data/testimage1.jpg\",cv2.IMREAD_GRAYSCALE)\n",
    "#Step 3:- Display an image to the User\n",
    "cv2.imshow(\"Image\",img)# Used to display the image\n",
    "#Step  4:- Wait of the key pressed by the User\n",
    "k=cv2.waitKey(0)#This will wait for the user to press 'a' key on the keyboard\n",
    "#Step 5 Destory all the instances.\n",
    "if k== ord('a'):\n",
    "    cv2.destroyAllWindows()# This will destroy all the windows Instances when a key is pressed on the keyboard"
   ]
  },
  {
   "cell_type": "code",
   "execution_count": 18,
   "metadata": {
    "collapsed": true
   },
   "outputs": [],
   "source": [
    "#Program to Save the Image and Exit when key 's' is pressed on the Keyboard or Close when 'Esc' Key is pressed¶"
   ]
  },
  {
   "cell_type": "code",
   "execution_count": 21,
   "metadata": {
    "collapsed": true
   },
   "outputs": [],
   "source": [
    "#Step 1 :- Import the required packages\n",
    "import cv2\n",
    "#Step 2:- Create an object to hold the image in it.\n",
    "img = cv2.imread(\"Data/testimage1.jpg\",0)\n",
    "#Step 3:- Show an image to the User\n",
    "cv2.imshow(\"Displaying Image to User\",img)\n",
    "#Step 4: Wait for the User to press the key on the keyboard\n",
    "#If you are using 64-bit machine then you have to write the waitKey as mentioned over here otherwise \n",
    "k = cv2.waitKey(0) & 0xFF \n",
    "if k == 27: #Wait for the Esc Key to press\n",
    "    cv2.destroyAllWindows()\n",
    "elif k== ord('s'): # Wait for s key to save and exit\n",
    "    cv2.imwrite(\"Output/image23.png\",img)\n",
    "    cv2.destroyAllWindows()"
   ]
  },
  {
   "cell_type": "code",
   "execution_count": 22,
   "metadata": {
    "collapsed": true
   },
   "outputs": [],
   "source": [
    "#Program to load an Image in a named Window and make it resizable.¶\n"
   ]
  },
  {
   "cell_type": "code",
   "execution_count": 23,
   "metadata": {
    "collapsed": true
   },
   "outputs": [],
   "source": [
    "#Step 1 : Import the required packages\n",
    "import cv2\n",
    "# Step 2:- Create a named window which will hold the image\n",
    "cv2.namedWindow(\"FIRSTIMAGE\",cv2.WINDOW_NORMAL)\n",
    "#Step 3:- Read an image and store it in the Object\n",
    "img=cv2.imread(\"Data/testimage1.jpg\",0)\n",
    "#Step 4:- Display an image in the previously created named windows\n",
    "cv2.imshow(\"FIRSTIMAGE\",img)\n",
    "#Step 5:- Wait for the key to be pressed by the user\n",
    "cv2.waitKey(0)\n",
    "#Step 5:- Destroy all the windows \n",
    "cv2.destroyAllWindows()"
   ]
  },
  {
   "cell_type": "code",
   "execution_count": 24,
   "metadata": {
    "collapsed": true
   },
   "outputs": [],
   "source": [
    "#Program to load an Image in a named Window.¶"
   ]
  },
  {
   "cell_type": "code",
   "execution_count": 25,
   "metadata": {
    "collapsed": true
   },
   "outputs": [],
   "source": [
    "#Step 1 : Import the required packages\n",
    "import cv2\n",
    "# Step 2:- Create a named window which will hold the image\n",
    "cv2.namedWindow(\"Secondimage\",cv2.WINDOW_AUTOSIZE)# it is the default mode.It automatically takes image size.\n",
    "#Step 3:- Read an image and store it in the Object\n",
    "img=cv2.imread(\"Data/testimage1.jpg\",0)\n",
    "#Step 4:- Display an image in the previously created named windows\n",
    "cv2.imshow(\"Secondimage\",img)\n",
    "#Step 5:- Wait for the key to be pressed by the user\n",
    "cv2.waitKey(0)\n",
    "#Step 5:- Destroy all the windows \n",
    "cv2.destroyAllWindows()"
   ]
  },
  {
   "cell_type": "code",
   "execution_count": 26,
   "metadata": {
    "collapsed": true
   },
   "outputs": [],
   "source": [
    "#Converting from One Color Format to Other Color Format¶\n"
   ]
  },
  {
   "cell_type": "code",
   "execution_count": 27,
   "metadata": {
    "collapsed": true
   },
   "outputs": [],
   "source": [
    "#Program to convert the image in BGR to RGB Format"
   ]
  },
  {
   "cell_type": "code",
   "execution_count": 28,
   "metadata": {
    "collapsed": true
   },
   "outputs": [],
   "source": [
    "#Step 1:- Import the required Packages\n",
    "import cv2\n",
    "# Step 2:- Create an object to hold the image\n",
    "img=cv2.imread(\"Data/testimage1.jpg\",1)\n",
    "#Step 3:- Convert the Color Format\n",
    "rgb=cv2.cvtColor(img,cv2.COLOR_BGR2RGB)\n",
    "#Step 4:- Show an image to the User and SAVE it\n",
    "cv2.imshow(\"DISPLAYING IMAGE IN RGB FORMAT\",rgb)\n",
    "cv2.imwrite(\"BGR2RGB.jpg\",rgb)\n",
    "#Step 5:- Wait for the user to press any key\n",
    "cv2.waitKey(0)\n",
    "#Step 6:- Destroy all the windows Instances\n",
    "cv2.destroyAllWindows()"
   ]
  },
  {
   "cell_type": "code",
   "execution_count": 29,
   "metadata": {
    "collapsed": true
   },
   "outputs": [],
   "source": [
    "#Program to convert the image in BGR to HSV Format"
   ]
  },
  {
   "cell_type": "code",
   "execution_count": 30,
   "metadata": {
    "collapsed": true
   },
   "outputs": [],
   "source": [
    "#Step 1:- Import the required Packages\n",
    "import cv2\n",
    "# Step 2:- Create an object to hold the image\n",
    "img=cv2.imread(\"Data/testimage1.jpg\",1)\n",
    "#Step 3:- Convert the Color Format\n",
    "hsv=cv2.cvtColor(img,cv2.COLOR_BGR2HSV)\n",
    "#Step 4:- Show an image to the User and Save it\n",
    "cv2.imshow(\"DISPLAYING IMAGE IN RGB FORMAT\",hsv)\n",
    "cv2.imwrite(\"BGR2HSV.jpg\",hsv)\n",
    "#Step 5:- Wait for the user to press any key\n",
    "cv2.waitKey(0)\n",
    "#Step 6:- Destroy all the windows Instances\n",
    "cv2.destroyAllWindows()"
   ]
  },
  {
   "cell_type": "code",
   "execution_count": null,
   "metadata": {
    "collapsed": true
   },
   "outputs": [],
   "source": []
  }
 ],
 "metadata": {
  "anaconda-cloud": {},
  "kernelspec": {
   "display_name": "Python [conda root]",
   "language": "python",
   "name": "conda-root-py"
  },
  "language_info": {
   "codemirror_mode": {
    "name": "ipython",
    "version": 3
   },
   "file_extension": ".py",
   "mimetype": "text/x-python",
   "name": "python",
   "nbconvert_exporter": "python",
   "pygments_lexer": "ipython3",
   "version": "3.5.4"
  }
 },
 "nbformat": 4,
 "nbformat_minor": 2
}
