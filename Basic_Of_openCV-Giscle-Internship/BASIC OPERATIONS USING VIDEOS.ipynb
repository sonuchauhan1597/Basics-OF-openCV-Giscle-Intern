{
 "cells": [
  {
   "cell_type": "code",
   "execution_count": 1,
   "metadata": {
    "collapsed": true
   },
   "outputs": [],
   "source": [
    "#Reading/Writing a video file¶"
   ]
  },
  {
   "cell_type": "code",
   "execution_count": 2,
   "metadata": {},
   "outputs": [
    {
     "data": {
      "text/plain": [
       "'\\nOpenCV provides the VideoCapture and VideoWriter classes that support various video file formats. The supported formats vary by system but should always include AVI. Via its read() method, a VideoCapture class may be polled for new frames until reaching the end of its video file. Each frame is an image in BGR format. Conversely, an image may be passed to the write() method of the VideoWriter class, which appends the image to the file in VideoWriter.\\n\\nTo capture a video, you need to create a VideoCapture object. Its argument can be either the device index or the name of a video file. Device index is just the number to specify which camera. Normally one camera will be connected (as in my case). So I simply pass 0 (or -1). You can select the second camera by passing 1 and so on. After that, you can capture frame-by-frame. But at the end, don’t forget to release the capture.\\n\\nNote: A video is nothing just a collection of frame which can be moved at specific speed to create an illusion of the video playback\\n\\n'"
      ]
     },
     "execution_count": 2,
     "metadata": {},
     "output_type": "execute_result"
    }
   ],
   "source": [
    "'''\n",
    "OpenCV provides the VideoCapture and VideoWriter classes that support various video file formats. The supported formats vary by system but should always include AVI. Via its read() method, a VideoCapture class may be polled for new frames until reaching the end of its video file. Each frame is an image in BGR format. Conversely, an image may be passed to the write() method of the VideoWriter class, which appends the image to the file in VideoWriter.\n",
    "\n",
    "To capture a video, you need to create a VideoCapture object. Its argument can be either the device index or the name of a video file. Device index is just the number to specify which camera. Normally one camera will be connected (as in my case). So I simply pass 0 (or -1). You can select the second camera by passing 1 and so on. After that, you can capture frame-by-frame. But at the end, don’t forget to release the capture.\n",
    "\n",
    "Note: A video is nothing just a collection of frame which can be moved at specific speed to create an illusion of the video playback\n",
    "\n",
    "'''"
   ]
  },
  {
   "cell_type": "code",
   "execution_count": 3,
   "metadata": {
    "collapsed": true
   },
   "outputs": [],
   "source": [
    "#Program to capture a Video from Camera and Dsiplay it to the User Frame-By-Frame¶"
   ]
  },
  {
   "cell_type": "code",
   "execution_count": 7,
   "metadata": {},
   "outputs": [],
   "source": [
    "#Step 1: Import the required Packages\n",
    "import cv2\n",
    "#Step 2:- Create a Video Capture Object to record the Video and pass the argument.\n",
    "        #It takes the device index which starts from 0(0 or -1 for current  device camera and 1 for other camera device)\n",
    "        #or the video file name along with its path\n",
    "cap = cv2.VideoCapture(0)\n",
    "while(True):\n",
    "    # Capture frame-by-frame\n",
    "    ret, frame = cap.read()\n",
    "\n",
    "    # Our operations on the frame come here. Here we are converting each frame into Grayscale\n",
    "    gray = cv2.cvtColor(frame, cv2.COLOR_BGR2GRAY)\n",
    "\n",
    "    # Display the resulting frame\n",
    "    cv2.imshow('frame',gray)\n",
    "    if cv2.waitKey(1) & 0xFF == ord('q'):\n",
    "        break\n",
    "\n",
    "# When everything done, release the capture\n",
    "cap.release()\n",
    "# Destroy all the previously created window objects.\n",
    "cv2.destroyAllWindows()"
   ]
  },
  {
   "cell_type": "code",
   "execution_count": 2,
   "metadata": {
    "collapsed": true
   },
   "outputs": [],
   "source": [
    "#Playing Video from file¶\n"
   ]
  },
  {
   "cell_type": "code",
   "execution_count": 3,
   "metadata": {
    "collapsed": true
   },
   "outputs": [],
   "source": [
    "#Program to play a video from file.¶"
   ]
  },
  {
   "cell_type": "code",
   "execution_count": 12,
   "metadata": {},
   "outputs": [],
   "source": [
    "# Step 1:-Import the required packages\n",
    "import cv2\n",
    "#Step 2:-\n",
    "#Create a videoCapture object to hold the video.\n",
    "cap = cv2.VideoCapture('Adiyogi- The Source of Yoga - Original Music Video ft. Kailash Kher & Prasoon Joshi.mp4')# Here we are passing video filename along with format which resides in current directory\n",
    "#  Step 3:- Check whether the object is intialized to capture the video or not\n",
    "while(cap.isOpened()):# isOpened() is used to check whether the cap is initialized or not\n",
    "    # Step 4:- Returning the frame by frame\n",
    "    ret, frame = cap.read()\n",
    "    # Step 5:- Performing the operations on each frame. Here we are converting each frame into grayscale.\n",
    "    gray = cv2.cvtColor(frame, cv2.COLOR_BGR2GRAY)\n",
    "    # Step 6: Displaying the output to the user.\n",
    "    cv2.imshow('frame',gray)\n",
    "    #Step 7:- Waiting for the user response .\n",
    "    if cv2.waitKey(1) & 0xFF == ord('q'): # Check whether key 'q' is pressed or not\n",
    "        break\n",
    "# Step 8 :- Releasing the Cap object\n",
    "cap.release()\n",
    "#Step 9 :- Destroying all the windows\n",
    "cv2.destroyAllWindows()"
   ]
  },
  {
   "cell_type": "code",
   "execution_count": 5,
   "metadata": {
    "collapsed": true
   },
   "outputs": [],
   "source": [
    "#Program to play a video in slow speed."
   ]
  },
  {
   "cell_type": "code",
   "execution_count": 14,
   "metadata": {},
   "outputs": [],
   "source": [
    "# If you set the waitKey(milliseconds) to too low the video will play very fast and if you set its duration to high the video \n",
    "# will play slowly.That's how you can create a slow motion videos.\n",
    "#Import the required Packages\n",
    "import cv2\n",
    "#Create a videoCapture object to hold the video\n",
    "cap=cv2.VideoCapture(\"Adiyogi- The Source of Yoga - Original Music Video ft. Kailash Kher & Prasoon Joshi.mp4\")\n",
    "# Return the video frames or display it to the user\n",
    "while(cap.isOpened()):\n",
    "    ret, frame=cap.read()\n",
    "    #Display the video frames to the User\n",
    "    cv2.imshow('frame',frame)\n",
    "    if cv2.waitKey(2000) & 0xFF==ord('a'):\n",
    "        break\n",
    "#Release allthe frames\n",
    "cap.release()\n",
    "#Destroy all the Windows\n",
    "cv2.destroyAllWindows()"
   ]
  },
  {
   "cell_type": "code",
   "execution_count": 7,
   "metadata": {
    "collapsed": true
   },
   "outputs": [],
   "source": [
    "#Program to play a video in normal speed."
   ]
  },
  {
   "cell_type": "code",
   "execution_count": 15,
   "metadata": {},
   "outputs": [],
   "source": [
    "# If you set the waitKey(milliseconds) to too low the video will play very fast and if you set its duration to high the video \n",
    "# will play slowly.That's how you can create a slow motion videos.\n",
    "#Import the required Packages\n",
    "import cv2\n",
    "#Create a videoCapture object to hold the video\n",
    "cap=cv2.VideoCapture(\"Adiyogi- The Source of Yoga - Original Music Video ft. Kailash Kher & Prasoon Joshi.mp4\")\n",
    "# Return the video frames or display it to the user\n",
    "while(cap.isOpened()):\n",
    "    ret, frame=cap.read()\n",
    "    #Display the video frames to the User\n",
    "    cv2.imshow('frame',frame)\n",
    "    if cv2.waitKey(25) & 0xFF==ord('a'):\n",
    "        break\n",
    "#Release allthe frames\n",
    "cap.release()\n",
    "#Destroy all the Windows\n",
    "cv2.destroyAllWindows()"
   ]
  },
  {
   "cell_type": "code",
   "execution_count": 9,
   "metadata": {
    "collapsed": true
   },
   "outputs": [],
   "source": [
    "#Program to play a video in fast speed¶"
   ]
  },
  {
   "cell_type": "code",
   "execution_count": 16,
   "metadata": {},
   "outputs": [],
   "source": [
    "# If you set the waitKey(milliseconds) to too low the video will play very fast and if you set its duration to high the video \n",
    "# will play slowly.That's how you can create a slow motion videos.\n",
    "#Import the required Packages\n",
    "import cv2\n",
    "#Create a videoCapture object to hold the video\n",
    "cap=cv2.VideoCapture(\"Adiyogi- The Source of Yoga - Original Music Video ft. Kailash Kher & Prasoon Joshi.mp4\")\n",
    "# Return the video frames or display it to the user\n",
    "while(cap.isOpened()):\n",
    "    ret, frame=cap.read()\n",
    "    #Display the video frames to the User\n",
    "    cv2.imshow('frame',frame)\n",
    "    if cv2.waitKey(1) & 0xFF==ord('a'):\n",
    "        break\n",
    "#Release allthe frames\n",
    "cap.release()\n",
    "#Destroy all the Windows\n",
    "cv2.destroyAllWindows()"
   ]
  },
  {
   "cell_type": "code",
   "execution_count": 11,
   "metadata": {
    "collapsed": true
   },
   "outputs": [],
   "source": [
    "#Saving a Video¶"
   ]
  },
  {
   "cell_type": "code",
   "execution_count": 12,
   "metadata": {},
   "outputs": [
    {
     "data": {
      "text/plain": [
       "\"\\nWe capture a video, process it frame-by-frame and we want to save that video. For images, it is very simple, just use cv2.imwrite(). Here a little more work is required.\\n\\nThis time we create a VideoWriter object. We should specify the output file name (eg: output.avi). Then we should specify the FourCC code (details in next paragraph). Then number of frames per second (fps) and frame size should be passed. And last one is isColor flag. If it is True, encoder expect color frame, otherwise it works with grayscale frame.\\n\\nFourCC is a 4-byte code used to specify the video codec. The list of available codes can be found in fourcc.org. It is platform dependent.\\n\\nFourCC code is passed as cv2.VideoWriter_fourcc('M','J','P','G') or cv2.VideoWriter_fourcc(*'MJPG) for MJPG.\\n\""
      ]
     },
     "execution_count": 12,
     "metadata": {},
     "output_type": "execute_result"
    }
   ],
   "source": [
    "'''\n",
    "We capture a video, process it frame-by-frame and we want to save that video. For images, it is very simple, just use cv2.imwrite(). Here a little more work is required.\n",
    "\n",
    "This time we create a VideoWriter object. We should specify the output file name (eg: output.avi). Then we should specify the FourCC code (details in next paragraph). Then number of frames per second (fps) and frame size should be passed. And last one is isColor flag. If it is True, encoder expect color frame, otherwise it works with grayscale frame.\n",
    "\n",
    "FourCC is a 4-byte code used to specify the video codec. The list of available codes can be found in fourcc.org. It is platform dependent.\n",
    "\n",
    "FourCC code is passed as cv2.VideoWriter_fourcc('M','J','P','G') or cv2.VideoWriter_fourcc(*'MJPG) for MJPG.\n",
    "'''"
   ]
  },
  {
   "cell_type": "code",
   "execution_count": 1,
   "metadata": {},
   "outputs": [],
   "source": [
    "# Step 1:-  Import the required packages\n",
    "import cv2\n",
    "# Step 2:-  Create a video Capture  object  to hold the video\n",
    "cap = cv2.VideoCapture(0) #This capture the video from the Camera\n",
    "# Define the codec and create VideoWriter object\n",
    "fourcc = cv2.VideoWriter_fourcc(*'XVID') #The fourcc is used to mention the video codec for encoding the video\n",
    "#The VideoWriter() accepts four parameters.These are as follows:\n",
    "    # 1) The output file name along with the format in which you want to save the file\n",
    "    # 2) The video codec or fourcc.\n",
    "    # 3) Frames per second which is used to mention how fast or slow your video should play along with the frame size that is the size of the window\n",
    "    # 4) isColor flag. If it is True, encoder expect color frame, otherwise it works with grayscale frame.\n",
    "out = cv2.VideoWriter('Output/output.avi',fourcc, 20.0, (int(cap.get(3)), int(cap.get(4))))\n",
    "\n",
    "while(cap.isOpened()):\n",
    "    ret, frame = cap.read()\n",
    "    out.write(frame)\n",
    "    if ret==True:\n",
    "        cv2.imshow('frame',frame)\n",
    "        if cv2.waitKey(1) & 0xFF == ord('q'):\n",
    "            break\n",
    "    else:\n",
    "        break\n",
    "\n",
    "# Release everything if job is finished\n",
    "cap.release()\n",
    "out.release()\n",
    "cv2.destroyAllWindows()"
   ]
  },
  {
   "cell_type": "code",
   "execution_count": 6,
   "metadata": {},
   "outputs": [],
   "source": [
    "#Program to convert the video in GRAYSCALE and Display it to the User¶\n"
   ]
  },
  {
   "cell_type": "code",
   "execution_count": 3,
   "metadata": {
    "collapsed": true
   },
   "outputs": [],
   "source": [
    "#Step 1:- Import the required packages\n",
    "import cv2\n",
    "#Step 2:- Create a VideoCapture object to hold the video in it\n",
    "cap=cv2.VideoCapture(0)# Capturing video from the camera\n",
    "# Step 3: Displaying it to the user\n",
    "while(cap.isOpened()):\n",
    "    ret, frame=cap.read()\n",
    "    #Step 4: Perform Color Inversion on the frames\n",
    "    gray=cv2.cvtColor(frame,cv2.COLOR_BGR2GRAY)\n",
    "    #Step 5:- Displaying it to the user\n",
    "    cv2.imshow(\"DISPLAY\",gray)\n",
    "    #Step 6: Checking for user's interaction  with keyboard\n",
    "    if cv2.waitKey(25) & 0xFF==ord('a'):#Exit whenever user press the a key on the keyboard\n",
    "        break\n",
    "#Step 7: Releasing everything after the job is done\n",
    "cap.release()\n",
    "cv2.destroyAllWindows()"
   ]
  },
  {
   "cell_type": "code",
   "execution_count": 4,
   "metadata": {
    "collapsed": true
   },
   "outputs": [],
   "source": [
    "#Program to convert the video in BGR format and Display it to the User¶"
   ]
  },
  {
   "cell_type": "code",
   "execution_count": 5,
   "metadata": {
    "collapsed": true
   },
   "outputs": [],
   "source": [
    "#Step 1:- Import the required packages\n",
    "import cv2\n",
    "#Step 2:- Create a VideoCapture object to hold the video in it\n",
    "cap=cv2.VideoCapture(0)# Capturing video from the camera\n",
    "# Step 3: Displaying it to the user\n",
    "while(cap.isOpened()):\n",
    "    ret, frame=cap.read()\n",
    "    #Step 4: Perform Color Inversion on the frames\n",
    "    gray=cv2.cvtColor(frame,cv2.COLOR_BGR2RGB)#This will convert BGR to RGB\n",
    "    #Step 5:- Displaying it to the user\n",
    "    cv2.imshow(\"DISPLAY\",gray)\n",
    "    #Step 6: Checking for user's interaction  with keyboard\n",
    "    if cv2.waitKey(25) & 0xFF==ord('a'):#Exit whenever user press the a key on the keyboard\n",
    "        break\n",
    "#Step 7: Releasing everything after the job is done\n",
    "cap.release()\n",
    "cv2.destroyAllWindows()"
   ]
  },
  {
   "cell_type": "code",
   "execution_count": 6,
   "metadata": {
    "collapsed": true
   },
   "outputs": [],
   "source": [
    "#Program to read the video and display it in HSV format¶"
   ]
  },
  {
   "cell_type": "code",
   "execution_count": 7,
   "metadata": {
    "collapsed": true
   },
   "outputs": [],
   "source": [
    "#Step 1:- Import the required packages\n",
    "import cv2\n",
    "#Step 2:- Create a VideoCapture object to hold the video in it\n",
    "cap=cv2.VideoCapture(0)# Capturing video from the camera\n",
    "# Step 3: Displaying it to the user\n",
    "while(cap.isOpened()):\n",
    "    ret, frame=cap.read()\n",
    "    #Step 4: Perform Color Inversion on the frames\n",
    "    gray=cv2.cvtColor(frame,cv2.COLOR_BGR2HSV)#This will convert BGR into HSV format\n",
    "    #Step 5:- Displaying it to the user\n",
    "    cv2.imshow(\"DISPLAY\",gray)\n",
    "    #Step 6: Checking for user's interaction  with keyboard\n",
    "    if cv2.waitKey(25) & 0xFF==ord('a'):#Exit whenever user press the a key on the keyboard\n",
    "        break\n",
    "#Step 7: Releasing everything after the job is done\n",
    "cap.release()\n",
    "cv2.destroyAllWindows()"
   ]
  },
  {
   "cell_type": "code",
   "execution_count": 8,
   "metadata": {
    "collapsed": true
   },
   "outputs": [],
   "source": [
    "#Saving a Video in different format to the disk"
   ]
  },
  {
   "cell_type": "code",
   "execution_count": 9,
   "metadata": {
    "collapsed": true
   },
   "outputs": [],
   "source": [
    "#Step 1:- Import the required packages\n",
    "import cv2\n",
    "# Step 2:- Create a VideoCapture object to capture the video\n",
    "cap=cv2.VideoCapture(\"COSTA.mp4\")# COSTA.mp4 is the filename of the video along with the format name\n",
    "fourcc = cv2.VideoWriter_fourcc(*'XVID') # For fourcc visit fourcc.org\n",
    "out=cv2.VideoWriter('ConvertedVideo.avi',fourcc,20,(1920,1080))\n",
    "    \n",
    "#Step 3: Return the video frame by frame\n",
    "while(cap.isOpened()):\n",
    "    ret ,frame=cap.read()\n",
    "    if ret==True:\n",
    "        #Step 4:- Displaying it to the user after performing color inversion\n",
    "        gray=cv2.cvtColor(frame,cv2.COLOR_BGR2GRAY)\n",
    "        #Step 5:- Write the file into the disk with specific format\n",
    "        cv2.imshow(\"DIPLAYING TO USER\",gray)\n",
    "        out.write(gray)\n",
    "        \n",
    "        if cv2.waitKey(25) & 0xFF==ord('a'):\n",
    "            break\n",
    "    else:\n",
    "        break\n",
    "# Step 6 : Release everything after use\n",
    "cap.release()\n",
    "out.release()\n",
    "cv2.destroyAllWindows()"
   ]
  },
  {
   "cell_type": "code",
   "execution_count": null,
   "metadata": {
    "collapsed": true
   },
   "outputs": [],
   "source": []
  }
 ],
 "metadata": {
  "anaconda-cloud": {},
  "kernelspec": {
   "display_name": "Python [conda root]",
   "language": "python",
   "name": "conda-root-py"
  },
  "language_info": {
   "codemirror_mode": {
    "name": "ipython",
    "version": 3
   },
   "file_extension": ".py",
   "mimetype": "text/x-python",
   "name": "python",
   "nbconvert_exporter": "python",
   "pygments_lexer": "ipython3",
   "version": "3.5.4"
  }
 },
 "nbformat": 4,
 "nbformat_minor": 2
}
