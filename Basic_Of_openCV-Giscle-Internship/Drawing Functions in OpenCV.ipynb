{
 "cells": [
  {
   "cell_type": "code",
   "execution_count": 1,
   "metadata": {
    "collapsed": true
   },
   "outputs": [],
   "source": [
    "#Basics of Shapes¶"
   ]
  },
  {
   "cell_type": "code",
   "execution_count": 2,
   "metadata": {},
   "outputs": [
    {
     "data": {
      "text/plain": [
       "'The OpenCV provides some of the readymade functions to draw different shapes.These are as follows:\\n1)cv2.line() 2)cv2.circle() 3)cv2.rectangle() 4)cv2.ellipse() 5)cv2.putText() etc.\\nIn all the functions, you will see some common arguments as given below: img : \\nThe image where you want to draw the shapes color : Color of the shape. for BGR, pass it as a tuple, \\neg: (255,0,0) for blue. For grayscale, just pass the scalar value. thickness : Thickness of the line or circle etc.\\nIf **-1** is passed for closed figures like circles, it will fill the shape.\\ndefault thickness = 1 lineType : Type of line, whether 8-connected, anti-aliased line etc.\\nBy default, it is 8-connected. cv2.LINE_AA gives anti-aliased line which looks great for curves. '"
      ]
     },
     "execution_count": 2,
     "metadata": {},
     "output_type": "execute_result"
    }
   ],
   "source": [
    "'''The OpenCV provides some of the readymade functions to draw different shapes.These are as follows:\n",
    "1)cv2.line() 2)cv2.circle() 3)cv2.rectangle() 4)cv2.ellipse() 5)cv2.putText() etc.\n",
    "In all the functions, you will see some common arguments as given below: img : \n",
    "The image where you want to draw the shapes color : Color of the shape. for BGR, pass it as a tuple, \n",
    "eg: (255,0,0) for blue. For grayscale, just pass the scalar value. thickness : Thickness of the line or circle etc.\n",
    "If **-1** is passed for closed figures like circles, it will fill the shape.\n",
    "default thickness = 1 lineType : Type of line, whether 8-connected, anti-aliased line etc.\n",
    "By default, it is 8-connected. cv2.LINE_AA gives anti-aliased line which looks great for curves. '''"
   ]
  },
  {
   "cell_type": "code",
   "execution_count": 3,
   "metadata": {
    "collapsed": true
   },
   "outputs": [],
   "source": [
    "#Drawing Line¶"
   ]
  },
  {
   "cell_type": "code",
   "execution_count": 4,
   "metadata": {},
   "outputs": [
    {
     "data": {
      "text/plain": [
       "'To draw a line, you need to pass starting and ending coordinates of line.\\nThe OpenCV has cv2.line() function which is used to draw a line. It takes following arguments: \\n1) object on which you want to draw a line 2) Starting and ending coordinates 3) Color of the shape. \\nfor BGR, pass it as a tuple, eg: (255,0,0) for blue. For grayscale, just pass the scalar value.\\n4) Thickness of the line. 5) Type of Line :LINE_AA for anti-aliasing line. \\nBy default it is not anti-aliased means a zigzag or rough surface will be noticed'"
      ]
     },
     "execution_count": 4,
     "metadata": {},
     "output_type": "execute_result"
    }
   ],
   "source": [
    "'''To draw a line, you need to pass starting and ending coordinates of line.\n",
    "The OpenCV has cv2.line() function which is used to draw a line. It takes following arguments: \n",
    "1) object on which you want to draw a line 2) Starting and ending coordinates 3) Color of the shape. \n",
    "for BGR, pass it as a tuple, eg: (255,0,0) for blue. For grayscale, just pass the scalar value.\n",
    "4) Thickness of the line. 5) Type of Line :LINE_AA for anti-aliasing line. \n",
    "By default it is not anti-aliased means a zigzag or rough surface will be noticed'''"
   ]
  },
  {
   "cell_type": "code",
   "execution_count": 5,
   "metadata": {
    "collapsed": true
   },
   "outputs": [],
   "source": [
    "#Program to Draw a line on Image"
   ]
  },
  {
   "cell_type": "code",
   "execution_count": 1,
   "metadata": {
    "collapsed": true
   },
   "outputs": [],
   "source": [
    "# Step 1: - Import the necessary packages\n",
    "import cv2\n",
    "# Step 2 :- Create the object to hold an image\n",
    "img=cv2.imread(\"Data/testimage1.jpg\",1)\n",
    "#Step 3:- Draw the shape on the object by passing parameters\n",
    "# Draw a diagonal blue line with thickness of 5 px\n",
    "line=cv2.line(img,(0,0),(511,511),(255,0,0),5)# Here the parameters are objectname,starting & ending coordinate,color,thickness\n",
    "#Step 4:- Display the image\n",
    "cv2.imshow(\"Display\",line)\n",
    "#Step 5:- Save a image\n",
    "cv2.imwrite(\"Output/LINEONIMAGE.jpg\",line)\n",
    "#Step 6:- Clear all the things when done\n",
    "cv2.waitKey(0)\n",
    "cv2.destroyAllWindows()"
   ]
  },
  {
   "cell_type": "code",
   "execution_count": 2,
   "metadata": {
    "collapsed": true
   },
   "outputs": [],
   "source": [
    "#Drawing a rectangle¶\n",
    "#Program to Draw a Rectangle¶"
   ]
  },
  {
   "cell_type": "code",
   "execution_count": 3,
   "metadata": {
    "collapsed": true
   },
   "outputs": [],
   "source": [
    "# Step 1: - Import the necessary packages\n",
    "import cv2\n",
    "# Step 2 :- Create the object to hold an image\n",
    "img=cv2.imread(\"Data/testimage1.jpg\",1)\n",
    "#Step 3:- Draw the shape on the object by passing parameters\n",
    "# Drawing a green rectangle at  the mentioned coordinate with specified thickness of 3\n",
    "rect=cv2.rectangle(img,(384,0),(510,128),(0,255,0),3)\n",
    "#Step 4:- Display the image\n",
    "cv2.imshow(\"Display\",rect)\n",
    "# Step 5: Save a image\n",
    "cv2.imwrite(\"Output/RECTONIMAGE.jpg\",rect)\n",
    "#Step 6:- Clear all the things when done\n",
    "cv2.waitKey(0)\n",
    "cv2.destroyAllWindows()"
   ]
  },
  {
   "cell_type": "code",
   "execution_count": 4,
   "metadata": {
    "collapsed": true
   },
   "outputs": [],
   "source": [
    "#Drawing a Circle¶"
   ]
  },
  {
   "cell_type": "code",
   "execution_count": 5,
   "metadata": {
    "collapsed": true
   },
   "outputs": [],
   "source": [
    "#Program to draw a Circle¶"
   ]
  },
  {
   "cell_type": "code",
   "execution_count": 6,
   "metadata": {
    "collapsed": true
   },
   "outputs": [],
   "source": [
    "# Step 1: - Import the necessary packages\n",
    "import cv2\n",
    "# Step 2 :- Create the object to hold an image\n",
    "img=cv2.imread(\"Data/testimage1.jpg\",1)\n",
    "#Step 3:- Draw the shape on the object by passing parameters\n",
    "# Drawing a red circle at  the mentioned coordinate with specified thickness of -1\n",
    "# This will take image object ,statrting position ,radius of the circle,color and thickness\n",
    "circle=cv2.circle(img,(447,63), 63, (0,0,255), -1)# it will draw a solid cirle \n",
    "#Step 4:- Display the image\n",
    "cv2.imshow(\"Display\",circle)\n",
    "#Step 5:- Save an image\n",
    "cv2.imwrite(\"Output/CIRCLEONIMAGE.jpg\",circle)\n",
    "# Step 6:- Clear all the things when done\n",
    "cv2.waitKey(0)\n",
    "cv2.destroyAllWindows()"
   ]
  },
  {
   "cell_type": "code",
   "execution_count": 7,
   "metadata": {
    "collapsed": true
   },
   "outputs": [],
   "source": [
    "#Program to draw a Circle with specified thickness¶"
   ]
  },
  {
   "cell_type": "code",
   "execution_count": 8,
   "metadata": {
    "collapsed": true
   },
   "outputs": [],
   "source": [
    "# Step 1: - Import the necessary packages\n",
    "import cv2\n",
    "# Step 2 :- Create the object to hold an image\n",
    "img=cv2.imread(\"Data/testimage1.jpg\",1)\n",
    "#Step 3:- Draw the shape on the object by passing parameters\n",
    "# Drawing a red circle at  the mentioned coordinate with specified thickness of 2\n",
    "# This will take image object ,statrting position ,radius of the circle,color and thickness\n",
    "cwth=cv2.circle(img,(447,63), 63, (0,0,255), 2)# it will draw a hollow cicle of thickness 2 \n",
    "#Step 4:- Display the image\n",
    "cv2.imshow(\"Display\",cwth)\n",
    "# STEP 5:- SAVE THE IMAGE\n",
    "cv2.imwrite(\"Output/CIRCLEWITHTHICKNESS.jpg\",cwth)\n",
    "# STEP 6:- CLEAR all the things\n",
    "cv2.waitKey(0)\n",
    "cv2.destroyAllWindows()"
   ]
  },
  {
   "cell_type": "code",
   "execution_count": 9,
   "metadata": {
    "collapsed": true
   },
   "outputs": [],
   "source": [
    "#Drawing Ellipse¶"
   ]
  },
  {
   "cell_type": "code",
   "execution_count": 10,
   "metadata": {},
   "outputs": [
    {
     "data": {
      "text/plain": [
       "'To draw the ellipse, we need to pass several arguments. One argument is the center location (x,y).\\nNext argument is axes lengths (major axis length, minor axis length). angle is the angle of rotation of \\nellipse in anti-clockwise direction. startAngle and endAngle denotes the starting and ending of ellipse arc \\nmeasured in clockwise direction from major axis. i.e. giving values 0 and 360 gives the full ellipse.\\n'"
      ]
     },
     "execution_count": 10,
     "metadata": {},
     "output_type": "execute_result"
    }
   ],
   "source": [
    "'''To draw the ellipse, we need to pass several arguments. One argument is the center location (x,y).\n",
    "Next argument is axes lengths (major axis length, minor axis length). angle is the angle of rotation of \n",
    "ellipse in anti-clockwise direction. startAngle and endAngle denotes the starting and ending of ellipse arc \n",
    "measured in clockwise direction from major axis. i.e. giving values 0 and 360 gives the full ellipse.\n",
    "'''"
   ]
  },
  {
   "cell_type": "code",
   "execution_count": 11,
   "metadata": {
    "collapsed": true
   },
   "outputs": [],
   "source": [
    "#Program to Draw an Ellipse¶"
   ]
  },
  {
   "cell_type": "code",
   "execution_count": 12,
   "metadata": {
    "collapsed": true
   },
   "outputs": [],
   "source": [
    "# Step 1: - Import the necessary packages\n",
    "import cv2\n",
    "# Step 2 :- Create the object to hold an image\n",
    "img=cv2.imread(\"Data/testimage1.jpg\",1)\n",
    "#Step 3:- Draw the shape on the object by passing parameters\n",
    "# The arguments passed are image object,centre location(x,y),axes length(major and minor),angle of rotation,start and \n",
    "# end angle, Color,thickness\n",
    "el=cv2.ellipse(img,(256,256),(100,50),0,0,180,255,-1) \n",
    "#Step 4:- Display the image\n",
    "cv2.imshow(\"Display\",el)\n",
    "# STEP 5:- SAVE IMAGE\n",
    "cv2.imwrite(\"Output/ELLIPSEONIMAGE.jpg\",el)\n",
    "# STEP 6: Clear all the things when done\n",
    "cv2.waitKey(0)\n",
    "cv2.destroyAllWindows()\n"
   ]
  },
  {
   "cell_type": "code",
   "execution_count": 13,
   "metadata": {
    "collapsed": true
   },
   "outputs": [],
   "source": [
    "#Adding Text to the Image¶"
   ]
  },
  {
   "cell_type": "code",
   "execution_count": 14,
   "metadata": {},
   "outputs": [
    {
     "data": {
      "text/plain": [
       "'To put texts in images, you need specify following things. Text data that you want to write Position coordinates\\nof where you want put it (i.e. bottom-left corner where data starts). Font type (Check cv2.putText() docs for \\nsupported fonts) Font Scale (specifies the size of font) regular things like color, thickness, lineType etc. \\nFor better look, lineType = cv2.LINE_AA is recommended. \\n'"
      ]
     },
     "execution_count": 14,
     "metadata": {},
     "output_type": "execute_result"
    }
   ],
   "source": [
    "'''To put texts in images, you need specify following things. Text data that you want to write Position coordinates\n",
    "of where you want put it (i.e. bottom-left corner where data starts). Font type (Check cv2.putText() docs for \n",
    "supported fonts) Font Scale (specifies the size of font) regular things like color, thickness, lineType etc. \n",
    "For better look, lineType = cv2.LINE_AA is recommended. \n",
    "'''"
   ]
  },
  {
   "cell_type": "code",
   "execution_count": 15,
   "metadata": {
    "collapsed": true
   },
   "outputs": [],
   "source": [
    "# Step 1: - Import the necessary packages\n",
    "import cv2\n",
    "# Step 2 :- Create the object to hold an image\n",
    "img=cv2.imread(\"Data/testimage1.jpg\")\n",
    "#Step 3:- Put the text on the object by passing parameters\n",
    "font = cv2.FONT_HERSHEY_SIMPLEX\n",
    "txt=cv2.putText(img,'OpenCV',(20,500), font, 4,(201,220,220),8,cv2.LINE_AA)#cv2.LINE_AA is for anti-aliasing.It is optional\n",
    "#Step 4:- Display the image\n",
    "cv2.imshow(\"Display\",txt)\n",
    "#STEP 5:- Save Image\n",
    "cv2.imwrite(\"Output/TEXTONIMAGE.jpg\",txt)\n",
    "# Step 6:- Clear all the things when done\n",
    "cv2.waitKey(0)\n",
    "cv2.destroyAllWindows()"
   ]
  },
  {
   "cell_type": "code",
   "execution_count": null,
   "metadata": {
    "collapsed": true
   },
   "outputs": [],
   "source": []
  }
 ],
 "metadata": {
  "kernelspec": {
   "display_name": "Python [conda root]",
   "language": "python",
   "name": "conda-root-py"
  },
  "language_info": {
   "codemirror_mode": {
    "name": "ipython",
    "version": 3
   },
   "file_extension": ".py",
   "mimetype": "text/x-python",
   "name": "python",
   "nbconvert_exporter": "python",
   "pygments_lexer": "ipython3",
   "version": "3.5.4"
  }
 },
 "nbformat": 4,
 "nbformat_minor": 2
}
